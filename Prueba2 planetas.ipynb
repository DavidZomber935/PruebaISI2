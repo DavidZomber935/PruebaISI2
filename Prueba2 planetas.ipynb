{
 "cells": [
  {
   "cell_type": "code",
   "execution_count": 1,
   "id": "d3ec55ad-ba7c-4664-aba4-443ba907bad3",
   "metadata": {},
   "outputs": [],
   "source": [
    "import requests\n",
    "from bs4 import BeautifulSoup"
   ]
  },
  {
   "cell_type": "code",
   "execution_count": 2,
   "id": "9e3074a6-bb99-4c8c-bfae-4a2d19e54f12",
   "metadata": {},
   "outputs": [],
   "source": [
    "url = \"https://es.wikipedia.org/wiki/Planetas_del_sistema_solar\"\n",
    "response = requests.get(url)\n",
    "html_content = response.content\n",
    "soup = BeautifulSoup(html_content, 'html.parser')"
   ]
  },
  {
   "cell_type": "code",
   "execution_count": 3,
   "id": "76dab2aa-b49a-436d-b9f3-a3cacaf48cf2",
   "metadata": {},
   "outputs": [
    {
     "name": "stdout",
     "output_type": "stream",
     "text": [
      "Planeta Enano: Ceres, Cantidad de Satélites: 0\n",
      "Planeta Enano: Plutón, Cantidad de Satélites: 5\n",
      "Planeta Enano: Haumea, Cantidad de Satélites: 2\n",
      "Planeta Enano: Makemake, Cantidad de Satélites: 1\n",
      "Planeta Enano: Eris, Cantidad de Satélites: 1\n"
     ]
    }
   ],
   "source": [
    "tables = soup.find_all(\"table\", {\"class\": \"wikitable\"})\n",
    "planet_table = tables[1]\n",
    "rows = planet_table.find_all(\"tr\")\n",
    "data = []\n",
    "\n",
    "for row in rows[1:]:\n",
    "    columns = row.find_all(\"td\")\n",
    "    if len(columns) > 0:\n",
    "        planet_name = columns[0].text.strip()\n",
    "        satellites = columns[7].text.strip()\n",
    "        data.append({\"Planeta Enano\": planet_name, \"Cantidad de Satélites\": satellites})\n",
    "\n",
    "for item in data:\n",
    "    print(f\"Planeta Enano: {item['Planeta Enano']}, Cantidad de Satélites: {item['Cantidad de Satélites']}\")"
   ]
  },
  {
   "cell_type": "code",
   "execution_count": null,
   "id": "b2ad45f9-9d8d-4ad8-b055-0f5962b60449",
   "metadata": {},
   "outputs": [],
   "source": []
  }
 ],
 "metadata": {
  "kernelspec": {
   "display_name": "Python 3 (ipykernel)",
   "language": "python",
   "name": "python3"
  },
  "language_info": {
   "codemirror_mode": {
    "name": "ipython",
    "version": 3
   },
   "file_extension": ".py",
   "mimetype": "text/x-python",
   "name": "python",
   "nbconvert_exporter": "python",
   "pygments_lexer": "ipython3",
   "version": "3.10.8"
  }
 },
 "nbformat": 4,
 "nbformat_minor": 5
}
